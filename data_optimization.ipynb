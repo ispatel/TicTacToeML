{
 "cells": [
  {
   "cell_type": "code",
   "execution_count": 124,
   "source": [
    "import numpy as np"
   ],
   "outputs": [],
   "metadata": {}
  },
  {
   "cell_type": "code",
   "execution_count": 125,
   "source": [
    "data = np.load(\"TicTacToeData.npy\",allow_pickle=True)\n",
    "data"
   ],
   "outputs": [
    {
     "output_type": "execute_result",
     "data": {
      "text/plain": [
       "array([array([[1, 2, 2, 2, 2, 2, 2, 2, 2],\n",
       "       [1, 2, 2, 2, 2, 0, 2, 2, 2],\n",
       "       [1, 2, 2, 2, 1, 0, 2, 2, 2],\n",
       "       [1, 0, 2, 2, 1, 0, 2, 2, 2],\n",
       "       [1, 0, 2, 1, 1, 0, 2, 2, 2],\n",
       "       [1, 0, 2, 1, 1, 0, 2, 0, 2],\n",
       "       [1, 0, 2, 1, 1, 0, 2, 0, 1]]),\n",
       "       array([[1, 2, 2, 2, 2, 2, 2, 2, 2],\n",
       "       [1, 2, 2, 0, 2, 2, 2, 2, 2],\n",
       "       [1, 2, 2, 0, 2, 2, 1, 2, 2],\n",
       "       [1, 0, 2, 0, 2, 2, 1, 2, 2],\n",
       "       [1, 0, 2, 0, 2, 1, 1, 2, 2],\n",
       "       [1, 0, 2, 0, 2, 1, 1, 2, 0],\n",
       "       [1, 0, 2, 0, 2, 1, 1, 1, 0],\n",
       "       [1, 0, 0, 0, 2, 1, 1, 1, 0],\n",
       "       [1, 0, 0, 0, 1, 1, 1, 1, 0]]),\n",
       "       array([[2, 0, 2, 2, 2, 2, 2, 2, 2],\n",
       "       [2, 0, 2, 2, 2, 2, 2, 1, 2],\n",
       "       [2, 0, 2, 2, 2, 0, 2, 1, 2],\n",
       "       [2, 0, 1, 2, 2, 0, 2, 1, 2],\n",
       "       [2, 0, 1, 2, 2, 0, 0, 1, 2],\n",
       "       [2, 0, 1, 2, 2, 0, 0, 1, 1],\n",
       "       [2, 0, 1, 2, 0, 0, 0, 1, 1],\n",
       "       [1, 0, 1, 2, 0, 0, 0, 1, 1],\n",
       "       [1, 0, 1, 0, 0, 0, 0, 1, 1]]),\n",
       "       ...,\n",
       "       array([[2, 0, 2, 2, 2, 2, 2, 2, 2],\n",
       "       [2, 0, 2, 2, 1, 2, 2, 2, 2],\n",
       "       [2, 0, 2, 2, 1, 0, 2, 2, 2],\n",
       "       [1, 0, 2, 2, 1, 0, 2, 2, 2],\n",
       "       [1, 0, 2, 2, 1, 0, 0, 2, 2],\n",
       "       [1, 0, 2, 1, 1, 0, 0, 2, 2],\n",
       "       [1, 0, 0, 1, 1, 0, 0, 2, 2],\n",
       "       [1, 0, 0, 1, 1, 0, 0, 2, 1]]),\n",
       "       array([[2, 2, 2, 2, 2, 2, 2, 2, 0],\n",
       "       [2, 2, 1, 2, 2, 2, 2, 2, 0],\n",
       "       [2, 2, 1, 2, 2, 0, 2, 2, 0],\n",
       "       [2, 2, 1, 2, 2, 0, 1, 2, 0],\n",
       "       [0, 2, 1, 2, 2, 0, 1, 2, 0],\n",
       "       [0, 1, 1, 2, 2, 0, 1, 2, 0],\n",
       "       [0, 1, 1, 0, 2, 0, 1, 2, 0],\n",
       "       [0, 1, 1, 0, 2, 0, 1, 1, 0],\n",
       "       [0, 1, 1, 0, 0, 0, 1, 1, 0]]),\n",
       "       array([[2, 2, 2, 2, 2, 0, 2, 2, 2],\n",
       "       [2, 2, 2, 1, 2, 0, 2, 2, 2],\n",
       "       [2, 2, 2, 1, 2, 0, 0, 2, 2],\n",
       "       [2, 2, 2, 1, 2, 0, 0, 2, 1],\n",
       "       [2, 2, 2, 1, 0, 0, 0, 2, 1],\n",
       "       [1, 2, 2, 1, 0, 0, 0, 2, 1],\n",
       "       [1, 2, 0, 1, 0, 0, 0, 2, 1]])], dtype=object)"
      ]
     },
     "metadata": {},
     "execution_count": 125
    }
   ],
   "metadata": {}
  },
  {
   "cell_type": "markdown",
   "source": [
    "Crete new data frame that only has the final board for each game."
   ],
   "metadata": {}
  },
  {
   "cell_type": "code",
   "execution_count": 126,
   "source": [
    "finalBoards = []\n",
    "\n",
    "for i in range(len(data)):\n",
    "    finalBoards.append(data[i][len(data[i])-1])\n"
   ],
   "outputs": [],
   "metadata": {}
  },
  {
   "cell_type": "code",
   "execution_count": 127,
   "source": [
    "def match(state):\n",
    "    spaceTaken = []\n",
    "    for (pos,val) in enumerate(state):\n",
    "        if val == 1 or val == 0: \n",
    "            spaceTaken.append(pos)\n",
    "\n",
    "    my_list = []\n",
    "    boardMatch = []\n",
    "\n",
    "    for (pos,val) in enumerate(finalBoards):\n",
    "        for i in spaceTaken:\n",
    "            if state[i] == val[i]:\n",
    "                my_list.append(True)\n",
    "            else:\n",
    "                my_list.append(False)\n",
    "        if False not in my_list:\n",
    "            boardMatch.append(val)\n",
    "            my_list = []\n",
    "        my_list = [] \n",
    "    newBoardMatch = []\n",
    "    for i in boardMatch: \n",
    "        newBoardMatch.append(i.tolist())\n",
    "\n",
    "    boardMatch = newBoardMatch\n",
    "\n",
    "    newBoardMatch = []\n",
    "    for i in boardMatch:\n",
    "        if i not in newBoardMatch:\n",
    "            newBoardMatch.append(i)\n",
    "    \n",
    "    boardMatch = newBoardMatch\n",
    "    return boardMatch\n",
    "    \n",
    "print([1, 0, 2, 0, 2, 2, 1, 2, 2])\n",
    "print(match([1, 0, 2, 0, 2, 2, 1, 2, 2]))\n",
    "print(len(match([1, 0, 2, 0, 2, 2, 1, 2, 2])))\n",
    "print(type(match([1, 0, 2, 0, 2, 2, 1, 2, 2])[3]))\n",
    "\n"
   ],
   "outputs": [
    {
     "output_type": "stream",
     "name": "stdout",
     "text": [
      "[1, 0, 2, 0, 2, 2, 1, 2, 2]\n",
      "[[1, 0, 0, 0, 1, 1, 1, 1, 0], [1, 0, 0, 0, 0, 1, 1, 1, 0], [1, 0, 1, 0, 0, 0, 1, 1, 0], [1, 0, 0, 0, 1, 1, 1, 0, 1], [1, 0, 0, 0, 0, 1, 1, 1, 1], [1, 0, 1, 0, 1, 1, 1, 0, 0], [1, 0, 1, 0, 0, 1, 1, 1, 0], [1, 0, 1, 0, 0, 1, 1, 0, 0], [1, 0, 1, 0, 1, 2, 1, 0, 2], [1, 0, 2, 0, 1, 0, 1, 0, 1], [1, 0, 2, 0, 0, 2, 1, 0, 1], [1, 0, 0, 0, 0, 1, 1, 0, 1], [1, 0, 0, 0, 1, 1, 1, 0, 0], [1, 0, 1, 0, 1, 2, 1, 2, 0], [1, 0, 2, 0, 0, 0, 1, 2, 1], [1, 0, 1, 0, 0, 0, 1, 2, 1], [1, 0, 0, 0, 0, 2, 1, 1, 1], [1, 0, 0, 0, 1, 0, 1, 1, 0], [1, 0, 2, 0, 0, 1, 1, 0, 1], [1, 0, 0, 0, 2, 0, 1, 1, 1], [1, 0, 1, 0, 1, 0, 1, 0, 1], [1, 0, 1, 0, 1, 0, 1, 1, 0], [1, 0, 2, 0, 2, 0, 1, 1, 1], [1, 0, 1, 0, 0, 1, 1, 0, 2], [1, 0, 1, 0, 0, 0, 1, 2, 2], [1, 0, 0, 0, 1, 2, 1, 0, 1], [1, 0, 2, 0, 0, 2, 1, 1, 1], [1, 0, 1, 0, 0, 0, 1, 0, 1], [1, 0, 1, 0, 1, 0, 1, 2, 0], [1, 0, 1, 0, 0, 0, 1, 1, 2], [1, 0, 0, 0, 1, 0, 1, 1, 1], [1, 0, 1, 0, 0, 2, 1, 0, 2], [1, 0, 2, 0, 0, 1, 1, 0, 2], [1, 0, 1, 0, 1, 0, 1, 2, 2], [1, 0, 1, 0, 0, 2, 1, 0, 1], [1, 0, 1, 0, 1, 0, 1, 0, 2], [1, 0, 2, 0, 1, 2, 1, 0, 1], [1, 0, 0, 0, 2, 2, 1, 1, 1], [1, 0, 0, 0, 1, 0, 1, 2, 1], [1, 0, 1, 0, 1, 2, 1, 0, 0], [1, 0, 2, 0, 0, 0, 1, 1, 2], [1, 0, 0, 0, 1, 2, 1, 2, 1], [1, 0, 2, 0, 1, 0, 1, 2, 1]]\n",
      "43\n",
      "<class 'list'>\n"
     ]
    }
   ],
   "metadata": {}
  }
 ],
 "metadata": {
  "orig_nbformat": 4,
  "language_info": {
   "name": "python",
   "version": "3.6.11",
   "mimetype": "text/x-python",
   "codemirror_mode": {
    "name": "ipython",
    "version": 3
   },
   "pygments_lexer": "ipython3",
   "nbconvert_exporter": "python",
   "file_extension": ".py"
  },
  "kernelspec": {
   "name": "python3",
   "display_name": "Python 3.6.11 64-bit (conda)"
  },
  "interpreter": {
   "hash": "fdb573b83abbab4d89f395ac38ef3a848d40d9dd8d468f27f020c89ec1ddbcdd"
  }
 },
 "nbformat": 4,
 "nbformat_minor": 2
}